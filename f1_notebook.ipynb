{
 "cells": [
  {
   "cell_type": "markdown",
   "id": "493e6960-cbe2-4ef5-9e20-66d875274f84",
   "metadata": {},
   "source": [
    "***\n",
    "***\n",
    "# F1 WINNER PREDICTIONS USING THE FASTF1 API"
   ]
  },
  {
   "cell_type": "markdown",
   "id": "ac3dd6ed-edfa-404a-9b84-9e60dd194f04",
   "metadata": {},
   "source": [
    "***\n",
    "***\n",
    "<br>\n",
    "\n",
    "- ### This Notebook is intended to be a more verbose version of the .py files included in this repository, serving explanatory and educational purposes.\n",
    "\n",
    "    > ##### _Please take a look at the README file before running it locally, to make sure you have all the libraries installed_.\n",
    "***"
   ]
  },
  {
   "cell_type": "markdown",
   "id": "3df8bb63-1e7e-4763-9c12-2aae946b21aa",
   "metadata": {},
   "source": [
    "- #### __Disclaimer:__ The vast majority of Python functionality in this Notebook is abtracted to and loaded from individual .py files that contain functions for downloading data from fastf1, manipulating dataframes, and making predictions.\n",
    "***"
   ]
  },
  {
   "cell_type": "markdown",
   "id": "fe4bf40a-b397-4469-8f37-9f067b2634db",
   "metadata": {},
   "source": [
    "- #### Make sure that all fastf1 loaded data stays cached in you local environment"
   ]
  },
  {
   "cell_type": "code",
   "execution_count": 1,
   "id": "611f9aa4-fde0-4bb5-9348-4ed3875353f2",
   "metadata": {},
   "outputs": [],
   "source": [
    "import fastf1\n",
    "my_path = r'C:\\Users\\apost\\miniconda3\\envs\\fastF1_cache'\n",
    "fastf1.Cache.enable_cache(my_path)"
   ]
  },
  {
   "cell_type": "markdown",
   "id": "37ebaa0f-2713-4bfe-8ae7-b6db6798d281",
   "metadata": {},
   "source": [
    "***\n",
    "## STEP 1: GETTING THE DATA\n",
    "***\n",
    "<br>"
   ]
  },
  {
   "cell_type": "markdown",
   "id": "0f8c370a-52c7-4655-8118-19f3695294ad",
   "metadata": {},
   "source": [
    "- #### Download the data from the past three seasons (2022-2024), plus the current one (2025).\n",
    "- #### __Disclaimer:__ _The .py files only support making predictions for the 2025 season for now. Functionality for adding future seasons will be added later._"
   ]
  },
  {
   "cell_type": "code",
   "execution_count": 2,
   "id": "5d33fa59-c44a-40f3-b4ea-1da44845cc35",
   "metadata": {
    "scrolled": true
   },
   "outputs": [],
   "source": [
    "# Import the local function that is tasked with downloading data for whole seasons:\n",
    "from f1_downloader import get_season\n",
    "import logging\n",
    "# Only show errors from fastf1 and not the typical huge messages\n",
    "logging.getLogger('fastf1').setLevel(logging.ERROR)\n",
    "logging.getLogger('fastf1.core').setLevel(logging.ERROR)\n",
    "# Download seasons 2022-2025\n",
    "stats_2022 = get_season(2022)\n",
    "stats_2023 = get_season(2023)\n",
    "stats_2024 = get_season(2024)\n",
    "stats_2025 = get_season(2025)"
   ]
  },
  {
   "cell_type": "markdown",
   "id": "8b35ab39-7ad6-4a26-bb12-08d38547e67f",
   "metadata": {},
   "source": [
    "***\n",
    "## STEP 2: DATA PREPARATION\n",
    "***\n",
    "<br>"
   ]
  },
  {
   "cell_type": "markdown",
   "id": "8154d6eb-509f-482a-a3ab-04fc6acb95c6",
   "metadata": {},
   "source": [
    "- #### Next, we'll use Pandas to concatenate our data into one big DataFrame that we'll work with"
   ]
  },
  {
   "cell_type": "code",
   "execution_count": 3,
   "id": "16e0afdd-01e2-4a24-854c-41b3c7bf4877",
   "metadata": {},
   "outputs": [
    {
     "data": {
      "text/html": [
       "<div>\n",
       "<style scoped>\n",
       "    .dataframe tbody tr th:only-of-type {\n",
       "        vertical-align: middle;\n",
       "    }\n",
       "\n",
       "    .dataframe tbody tr th {\n",
       "        vertical-align: top;\n",
       "    }\n",
       "\n",
       "    .dataframe thead th {\n",
       "        text-align: right;\n",
       "    }\n",
       "</style>\n",
       "<table border=\"1\" class=\"dataframe\">\n",
       "  <thead>\n",
       "    <tr style=\"text-align: right;\">\n",
       "      <th></th>\n",
       "      <th>Driver</th>\n",
       "      <th>lapsCompleted</th>\n",
       "      <th>Team</th>\n",
       "      <th>CircuitName</th>\n",
       "      <th>avgLapTime_s</th>\n",
       "      <th>stdLapTime_s</th>\n",
       "      <th>GridPosition</th>\n",
       "      <th>Position</th>\n",
       "      <th>isDNF</th>\n",
       "      <th>raceID</th>\n",
       "      <th>Year</th>\n",
       "    </tr>\n",
       "  </thead>\n",
       "  <tbody>\n",
       "    <tr>\n",
       "      <th>0</th>\n",
       "      <td>ALB</td>\n",
       "      <td>57.0</td>\n",
       "      <td>Williams</td>\n",
       "      <td>Bahrain Grand Prix</td>\n",
       "      <td>103.640632</td>\n",
       "      <td>8.808555</td>\n",
       "      <td>14.0</td>\n",
       "      <td>13.0</td>\n",
       "      <td>0</td>\n",
       "      <td>1</td>\n",
       "      <td>2022</td>\n",
       "    </tr>\n",
       "    <tr>\n",
       "      <th>1</th>\n",
       "      <td>ALO</td>\n",
       "      <td>57.0</td>\n",
       "      <td>Alpine</td>\n",
       "      <td>Bahrain Grand Prix</td>\n",
       "      <td>103.087263</td>\n",
       "      <td>8.361730</td>\n",
       "      <td>8.0</td>\n",
       "      <td>9.0</td>\n",
       "      <td>0</td>\n",
       "      <td>1</td>\n",
       "      <td>2022</td>\n",
       "    </tr>\n",
       "    <tr>\n",
       "      <th>2</th>\n",
       "      <td>BOT</td>\n",
       "      <td>57.0</td>\n",
       "      <td>Alfa Romeo</td>\n",
       "      <td>Bahrain Grand Prix</td>\n",
       "      <td>102.977246</td>\n",
       "      <td>9.828384</td>\n",
       "      <td>6.0</td>\n",
       "      <td>6.0</td>\n",
       "      <td>0</td>\n",
       "      <td>1</td>\n",
       "      <td>2022</td>\n",
       "    </tr>\n",
       "  </tbody>\n",
       "</table>\n",
       "</div>"
      ],
      "text/plain": [
       "  Driver  lapsCompleted        Team         CircuitName  avgLapTime_s  \\\n",
       "0    ALB           57.0    Williams  Bahrain Grand Prix    103.640632   \n",
       "1    ALO           57.0      Alpine  Bahrain Grand Prix    103.087263   \n",
       "2    BOT           57.0  Alfa Romeo  Bahrain Grand Prix    102.977246   \n",
       "\n",
       "   stdLapTime_s  GridPosition  Position  isDNF  raceID  Year  \n",
       "0      8.808555          14.0      13.0      0       1  2022  \n",
       "1      8.361730           8.0       9.0      0       1  2022  \n",
       "2      9.828384           6.0       6.0      0       1  2022  "
      ]
     },
     "execution_count": 3,
     "metadata": {},
     "output_type": "execute_result"
    }
   ],
   "source": [
    "import pandas as pd\n",
    "all_stats = pd.concat(\n",
    "    [stats_2022, stats_2023, stats_2024, stats_2025],\n",
    "    ignore_index = True\n",
    ")\n",
    "all_stats.head(3)"
   ]
  },
  {
   "cell_type": "code",
   "execution_count": 4,
   "id": "d1a58595-718f-4c24-b0c1-a6b2e885ac95",
   "metadata": {},
   "outputs": [
    {
     "data": {
      "text/html": [
       "<div>\n",
       "<style scoped>\n",
       "    .dataframe tbody tr th:only-of-type {\n",
       "        vertical-align: middle;\n",
       "    }\n",
       "\n",
       "    .dataframe tbody tr th {\n",
       "        vertical-align: top;\n",
       "    }\n",
       "\n",
       "    .dataframe thead th {\n",
       "        text-align: right;\n",
       "    }\n",
       "</style>\n",
       "<table border=\"1\" class=\"dataframe\">\n",
       "  <thead>\n",
       "    <tr style=\"text-align: right;\">\n",
       "      <th></th>\n",
       "      <th>Driver</th>\n",
       "      <th>lapsCompleted</th>\n",
       "      <th>Team</th>\n",
       "      <th>CircuitName</th>\n",
       "      <th>avgLapTime_s</th>\n",
       "      <th>stdLapTime_s</th>\n",
       "      <th>GridPosition</th>\n",
       "      <th>Position</th>\n",
       "      <th>isDNF</th>\n",
       "      <th>raceID</th>\n",
       "      <th>Year</th>\n",
       "    </tr>\n",
       "  </thead>\n",
       "  <tbody>\n",
       "    <tr>\n",
       "      <th>1730</th>\n",
       "      <td>STR</td>\n",
       "      <td>56.0</td>\n",
       "      <td>Aston Martin</td>\n",
       "      <td>United States Grand Prix</td>\n",
       "      <td>102.052482</td>\n",
       "      <td>6.193648</td>\n",
       "      <td>19.0</td>\n",
       "      <td>12.0</td>\n",
       "      <td>0</td>\n",
       "      <td>19</td>\n",
       "      <td>2025</td>\n",
       "    </tr>\n",
       "    <tr>\n",
       "      <th>1731</th>\n",
       "      <td>TSU</td>\n",
       "      <td>56.0</td>\n",
       "      <td>Red Bull Racing</td>\n",
       "      <td>United States Grand Prix</td>\n",
       "      <td>101.658482</td>\n",
       "      <td>6.315353</td>\n",
       "      <td>13.0</td>\n",
       "      <td>7.0</td>\n",
       "      <td>0</td>\n",
       "      <td>19</td>\n",
       "      <td>2025</td>\n",
       "    </tr>\n",
       "    <tr>\n",
       "      <th>1732</th>\n",
       "      <td>VER</td>\n",
       "      <td>56.0</td>\n",
       "      <td>Red Bull Racing</td>\n",
       "      <td>United States Grand Prix</td>\n",
       "      <td>100.717161</td>\n",
       "      <td>6.336426</td>\n",
       "      <td>1.0</td>\n",
       "      <td>1.0</td>\n",
       "      <td>0</td>\n",
       "      <td>19</td>\n",
       "      <td>2025</td>\n",
       "    </tr>\n",
       "  </tbody>\n",
       "</table>\n",
       "</div>"
      ],
      "text/plain": [
       "     Driver  lapsCompleted             Team               CircuitName  \\\n",
       "1730    STR           56.0     Aston Martin  United States Grand Prix   \n",
       "1731    TSU           56.0  Red Bull Racing  United States Grand Prix   \n",
       "1732    VER           56.0  Red Bull Racing  United States Grand Prix   \n",
       "\n",
       "      avgLapTime_s  stdLapTime_s  GridPosition  Position  isDNF  raceID  Year  \n",
       "1730    102.052482      6.193648          19.0      12.0      0      19  2025  \n",
       "1731    101.658482      6.315353          13.0       7.0      0      19  2025  \n",
       "1732    100.717161      6.336426           1.0       1.0      0      19  2025  "
      ]
     },
     "execution_count": 4,
     "metadata": {},
     "output_type": "execute_result"
    }
   ],
   "source": [
    "all_stats[-3:]"
   ]
  },
  {
   "cell_type": "markdown",
   "id": "d6fa2149-5bff-4ca9-ae2e-640b6ce214f5",
   "metadata": {},
   "source": [
    "- ##### Our get_season function does not download everything from fastf1. You can see everything that the get_session native fastf1 API call returns below:\n",
    "  ```\n",
    "  https://docs.fastf1.dev/fastf1.html#fastf1.get_session\n",
    "  https://docs.fastf1.dev/core.html#fastf1.core.Laps\n",
    "  https://docs.fastf1.dev/core.html#fastf1.core.SessionResults\n",
    "  ```\n",
    "\n",
    "- ##### For the calculation of avgLapTime_s and stdLapTime_s, the columns are converted to seconds, as the original fastf1 column is using Pandas Timedelta objects:\n",
    "\n",
    "  ```\n",
    "  LapTime (pandas.Timedelta: Recorded lap time.\n",
    "  ```"
   ]
  },
  {
   "cell_type": "markdown",
   "id": "23e765ba-46b8-44ed-9a2b-89644c8ab783",
   "metadata": {},
   "source": [
    "- #### We sort our data chronologically and reset the old indexes of the DataFrame"
   ]
  },
  {
   "cell_type": "code",
   "execution_count": 5,
   "id": "322130c8-b87b-4cc4-85dc-b33d86b3640a",
   "metadata": {},
   "outputs": [],
   "source": [
    "all_stats = all_stats.sort_values(by = ['Year', 'raceID']).reset_index(drop = True)"
   ]
  },
  {
   "cell_type": "markdown",
   "id": "1fbd538d-2de0-401c-9a2b-28b3e2b9be5f",
   "metadata": {},
   "source": [
    "- #### Our Model's goal will be to predict the winner of the next Gran Prix. We'll make use of the 'Position' column to create a binary variable which will tell us: is this row/driver a winner in this race, or not?"
   ]
  },
  {
   "cell_type": "code",
   "execution_count": 6,
   "id": "668e8e5a-bd3d-4eb3-8435-a7271fdd55e0",
   "metadata": {},
   "outputs": [],
   "source": [
    "all_stats['Winner'] = (all_stats['Position'] == 1).astype(int)"
   ]
  },
  {
   "cell_type": "markdown",
   "id": "9b1029c1-2022-4234-904f-d6c1050601dc",
   "metadata": {},
   "source": [
    "- #### Next, we'll need to create some historical features, the \"pace\" of which a Driver or a Team improves (or not). We'll make use of Pandas' expanding and rolling averages, to calculate the overall (expanding) or recent (rolling) improvement on average, when it comes to features like the lap times, grid position, final position, the tendency to DNF, and group them by driver and/or team."
   ]
  },
  {
   "cell_type": "code",
   "execution_count": 7,
   "id": "d4e256ba-a01d-486c-bd94-749ddd4bc79f",
   "metadata": {},
   "outputs": [],
   "source": [
    "from f1_train_data import collect_historical_data\n",
    "collect_historical_data(all_stats) # Operations are in-place, assigning the result to a value would lead to None"
   ]
  },
  {
   "cell_type": "markdown",
   "id": "9c4eef38-d83f-4471-afcb-bc49788f6ba3",
   "metadata": {},
   "source": [
    "***\n",
    "## STEP 3: CREATE PREDICTION/FUTURE DATA\n",
    "***\n",
    "<br>"
   ]
  },
  {
   "cell_type": "code",
   "execution_count": 8,
   "id": "0ece296c-2937-4f0f-8e96-b8765ed56f8e",
   "metadata": {},
   "outputs": [],
   "source": [
    "from f1_future_data import get_next_race\n",
    "next_race = get_next_race(all_stats)"
   ]
  },
  {
   "cell_type": "markdown",
   "id": "2088af10-6e52-4988-a153-0d6847004c1e",
   "metadata": {},
   "source": [
    "- ##### The get_next_race function extracts the last (chronologically) race from our DataFrame, and repopulates it with Null or zero values in the appropriate fields. We will need to re-pass the full stats (all_stats + next_race) through our collect_historical_data so that the next_race part will get populated with data. It's a redundant step, but it helps me automate the creation of the next_race object."
   ]
  },
  {
   "cell_type": "code",
   "execution_count": 9,
   "id": "20acc7dc-c49f-432c-9dfd-80118d0e3a58",
   "metadata": {},
   "outputs": [],
   "source": [
    "full_df = pd.concat([all_stats, next_race], ignore_index = True)\n",
    "collect_historical_data(full_df)\n",
    "\n",
    "# Remove any Null values\n",
    "from f1_train_data import drop_na\n",
    "drop_na(full_df)"
   ]
  },
  {
   "cell_type": "markdown",
   "id": "4ec1908b-194d-4162-bfcb-0bf69dd653ce",
   "metadata": {},
   "source": [
    "***\n",
    "## STEP 4: SPLIT THE DATA\n",
    "***\n",
    "<br>"
   ]
  },
  {
   "cell_type": "code",
   "execution_count": 10,
   "id": "66797568-b0d5-4943-b78b-540b082a286d",
   "metadata": {},
   "outputs": [],
   "source": [
    "# Define the columns that are gonna be used for training and predictions\n",
    "from f1_future_data import pred_cols\n",
    "X_cols = pred_cols() # Custom function that collects the appropriate columns for efficient training\n",
    "X_future = full_df[full_df['isPredictionData'] == 1][X_cols]\n",
    "X_train = full_df[full_df['isPredictionData'] != 1][X_cols]\n",
    "y_train = full_df[full_df['isPredictionData'] != 1]['Winner']"
   ]
  },
  {
   "cell_type": "markdown",
   "id": "05402bb6-06d6-461a-91c0-6413525aa526",
   "metadata": {},
   "source": [
    "- ##### Since columns like the driver name, team name, raceID don't have any use for training, they're dropped from our data. But we'll keep them seperate for identification purposes (We don't just want to know the row of the winning driver, but also their name!)"
   ]
  },
  {
   "cell_type": "code",
   "execution_count": 11,
   "id": "5e0e28f9-4024-4fad-a9c8-9f34472ccc9a",
   "metadata": {},
   "outputs": [],
   "source": [
    "ID_cols = ['Driver', 'Year', 'raceID']\n",
    "ids = full_df[full_df['isPredictionData'] == 1][ID_cols] # future data/race ids\n",
    "train_ids = full_df[full_df['isPredictionData'] != 1][ID_cols] # historical data ids"
   ]
  },
  {
   "cell_type": "markdown",
   "id": "d603a110-d481-4c81-914b-7246d38c01ad",
   "metadata": {},
   "source": [
    "***\n",
    "## STEP 5: LOAD THE MODEL. MAKE PREDICTIONS. EVALUATE.\n",
    "***\n",
    "<br>"
   ]
  },
  {
   "cell_type": "code",
   "execution_count": 12,
   "id": "c6bc3dfa-d8b9-4bcd-9433-01682ffba204",
   "metadata": {},
   "outputs": [
    {
     "name": "stdout",
     "output_type": "stream",
     "text": [
      "   Driver Probability to win\n",
      "0     PIA             91.38%\n",
      "1     VER             87.74%\n",
      "2     NOR              4.15%\n",
      "3     LEC              2.68%\n",
      "4     HAM              0.82%\n",
      "5     ANT              0.63%\n",
      "6     RUS              0.54%\n",
      "7     SAI              0.53%\n",
      "8     TSU              0.29%\n",
      "9     STR              0.18%\n",
      "10    OCO              0.17%\n",
      "11    ALB              0.17%\n",
      "12    ALO              0.17%\n",
      "13    HUL              0.17%\n",
      "14    HAD              0.17%\n",
      "15    GAS              0.17%\n",
      "16    COL              0.17%\n",
      "17    BOR              0.17%\n",
      "18    BEA              0.17%\n",
      "19    LAW              0.17%\n"
     ]
    }
   ],
   "source": [
    "from f1_predictor import predict_winner\n",
    "results = predict_winner(X_train, y_train, X_future, ids)\n",
    "print(results)"
   ]
  },
  {
   "cell_type": "markdown",
   "id": "180a957a-142f-48f7-ba40-e8ed442b0edd",
   "metadata": {},
   "source": [
    "- ##### Our model loads an XGB Classifier with a few predifined parameters, which are the result of testing, trial, and error. These may need to change later.\n",
    "- __These parameters are in plain text:__\n",
    "  ```\n",
    "  HARD_CODED_PARAMS = {'gamma': np.float64(0.05),\n",
    "                         'learning_rate': np.float64(0.027882270922132885),\n",
    "                         'max_depth': 8,\n",
    "                         'min_child_weight': 5,\n",
    "                         'n_estimators': 294,\n",
    "                         'scale_pos_weight': np.float64(16.78048780487805)\n",
    "                         }\n",
    "    ```\n",
    "\n",
    "- ##### These parameters may require additional tuning using Sklearn's RandomizedSearchCV, Scipy's stats, and Sklearns classification_report\n",
    "\n",
    "   > _(See 'STEP 6')_"
   ]
  },
  {
   "cell_type": "code",
   "execution_count": 13,
   "id": "40390a1d-81a5-4d21-9673-d97a87ff29c1",
   "metadata": {},
   "outputs": [
    {
     "data": {
      "text/plain": [
       "mappingproxy({'history_data': <Parameter \"history_data\">,\n",
       "              'history_results': <Parameter \"history_results\">,\n",
       "              'next_race_data': <Parameter \"next_race_data\">,\n",
       "              'ids': <Parameter \"ids\">,\n",
       "              'params': <Parameter \"params={'gamma': np.float64(0.05), 'learning_rate': np.float64(0.027882270922132885), 'max_depth': 8, 'min_child_weight': 5, 'n_estimators': 294, 'scale_pos_weight': np.float64(16.78048780487805)}\">})"
      ]
     },
     "execution_count": 13,
     "metadata": {},
     "output_type": "execute_result"
    }
   ],
   "source": [
    "# custom parameters must be added at the 'params' property, eg params=custom_params\n",
    "import inspect\n",
    "inspect.signature(predict_winner).parameters"
   ]
  },
  {
   "cell_type": "markdown",
   "id": "93c526d5-50ee-48e0-95f0-8722496b59cc",
   "metadata": {},
   "source": [
    "- #### Evaluate our model. We will use all 2005 (current season) results as test data"
   ]
  },
  {
   "cell_type": "code",
   "execution_count": 14,
   "id": "84c87bb3-3447-40b4-95bf-8644b6bf1d75",
   "metadata": {},
   "outputs": [
    {
     "name": "stdout",
     "output_type": "stream",
     "text": [
      "              precision    recall  f1-score   support\n",
      "\n",
      "           0       0.95      0.97      0.96       256\n",
      "           1       0.42      0.26      0.32        19\n",
      "\n",
      "    accuracy                           0.92       275\n",
      "   macro avg       0.68      0.62      0.64       275\n",
      "weighted avg       0.91      0.92      0.92       275\n",
      "\n"
     ]
    }
   ],
   "source": [
    "from f1_predictor import class_report\n",
    "# Do NOT use Sklearn's classification_report. This class_report function is customized to drop the next race from the data\n",
    "# and evaluate using seasons 2022-2024 as the training set and season 2025 (so far) as the test set\n",
    "report = class_report(X_train, y_train, train_ids)\n",
    "print(report)"
   ]
  },
  {
   "cell_type": "markdown",
   "id": "59283b89-1c33-4704-aec2-e83207e1c744",
   "metadata": {},
   "source": [
    "***\n",
    "## STEP 6: DANGER ZONE!!!\n",
    "- #### _Tweak our XGB Classifier. Make new classification reports. Do NOT use vanilla classification_report, use the custom function above._\n",
    "***\n",
    "<br>"
   ]
  },
  {
   "cell_type": "code",
   "execution_count": 15,
   "id": "c0a318e7-b1a5-402c-ba1f-a3886507ede9",
   "metadata": {},
   "outputs": [
    {
     "name": "stdout",
     "output_type": "stream",
     "text": [
      "Fitting 10 folds for each of 100 candidates, totalling 1000 fits\n"
     ]
    },
    {
     "data": {
      "text/plain": [
       "{'gamma': np.float64(0.040383617105804084),\n",
       " 'learning_rate': np.float64(0.10648922471089817),\n",
       " 'max_depth': 12,\n",
       " 'min_child_weight': 39,\n",
       " 'n_estimators': 485,\n",
       " 'scale_pos_weight': 14.986046511627908}"
      ]
     },
     "execution_count": 15,
     "metadata": {},
     "output_type": "execute_result"
    }
   ],
   "source": [
    "from f1_predictor import get_eval_sets\n",
    "from sklearn.model_selection import RandomizedSearchCV\n",
    "import scipy.stats as stats\n",
    "import xgboost as xgb\n",
    "\n",
    "# Get the \"usual\" split, up to the end of 2024 for training, all of 2025 finished races for testing\n",
    "(X_train_eval, y_train_eval), (X_test_eval, y_test_eval) = get_eval_sets(X_train, y_train, train_ids)\n",
    "\n",
    "# Calculate the imbalance between positive and negative outcomes\n",
    "neg_count = sum(y_train_eval == 0)\n",
    "pos_count = sum(y_train_eval == 1)\n",
    "scale_weight = neg_count / pos_count\n",
    "\n",
    "# Run a randomized search with cross validation\n",
    "param_dist = {\n",
    "    'learning_rate': stats.uniform(loc = 0.1, scale = 0.1),\n",
    "    'n_estimators': stats.randint(100, 1000),\n",
    "    'scale_pos_weight': [scale_weight, scale_weight * 1.1, scale_weight * 0.9],\n",
    "    'max_depth': stats.randint(1, 40),\n",
    "    'min_child_weight': stats.randint(1, 40),\n",
    "    'gamma': stats.uniform(loc = 0, scale = 0.1)\n",
    "}\n",
    "\n",
    "random_search = RandomizedSearchCV(\n",
    "    estimator = xgb.XGBClassifier(objective='binary:logistic', eval_metric = 'logloss', seed = 42),\n",
    "    n_iter = 100,\n",
    "    param_distributions = param_dist,\n",
    "    cv = 10,\n",
    "    scoring = 'roc_auc',\n",
    "    verbose = 1,\n",
    "    random_state = 42\n",
    ")\n",
    "\n",
    "random_search.fit(X_train_eval, y_train_eval)\n",
    "custom_params = random_search.best_params_\n",
    "custom_params"
   ]
  },
  {
   "cell_type": "markdown",
   "id": "480f0d03-fff3-4fe9-b06e-ff0f3035a30d",
   "metadata": {},
   "source": [
    "- ##### Playing a little bit with the values, to optimize precision, recall and f1-score. This works only for the current version of the dataset and does not guarantee being optimal for future predictions."
   ]
  },
  {
   "cell_type": "code",
   "execution_count": 16,
   "id": "fb29f0ea-5c07-41db-94c8-b1fdbf8ea419",
   "metadata": {
    "scrolled": true
   },
   "outputs": [
    {
     "name": "stdout",
     "output_type": "stream",
     "text": [
      "              precision    recall  f1-score   support\n",
      "\n",
      "           0       0.97      0.92      0.94       256\n",
      "           1       0.36      0.63      0.46        19\n",
      "\n",
      "    accuracy                           0.90       275\n",
      "   macro avg       0.67      0.77      0.70       275\n",
      "weighted avg       0.93      0.90      0.91       275\n",
      "\n"
     ]
    }
   ],
   "source": [
    "custom_params['gamma'] = 0.05\n",
    "custom_params['learning_rate'] = 0.1\n",
    "custom_params['max_depth'] = 15\n",
    "custom_params['min_child_weight'] = 58\n",
    "custom_params['n_estimators'] = 450\n",
    "custom_params['scale_pos_weight'] = 16\n",
    "\n",
    "report_eval = class_report(X_train, y_train, train_ids, params = custom_params)\n",
    "print(report_eval)"
   ]
  },
  {
   "cell_type": "markdown",
   "id": "2efc6cc7-8409-42ce-a046-c3b4c9986c16",
   "metadata": {},
   "source": [
    "- #### Make a new prediction, using those evaluated parameters"
   ]
  },
  {
   "cell_type": "code",
   "execution_count": 17,
   "id": "11efb97d-7bbc-4528-a94b-0a3188656563",
   "metadata": {},
   "outputs": [
    {
     "name": "stdout",
     "output_type": "stream",
     "text": [
      "   Driver Probability to win\n",
      "1     VER             80.64%\n",
      "2     PIA             76.94%\n",
      "3     LEC             38.69%\n",
      "4     NOR             17.48%\n",
      "5     RUS              11.1%\n",
      "6     TSU              9.01%\n",
      "7     ANT              5.07%\n",
      "8     HAM              3.41%\n",
      "9     ALB              2.13%\n",
      "10    GAS              2.08%\n",
      "11    ALO              2.04%\n",
      "12    SAI              1.24%\n",
      "13    LAW              1.03%\n",
      "14    HAD              0.96%\n",
      "15    OCO              0.96%\n",
      "16    BEA              0.94%\n",
      "17    BOR              0.92%\n",
      "18    STR              0.92%\n",
      "19    COL              0.88%\n",
      "20    HUL              0.84%\n"
     ]
    }
   ],
   "source": [
    "results = predict_winner(X_train, y_train, X_future, ids, params = custom_params)\n",
    "results.index = results.index + 1\n",
    "print(results)"
   ]
  },
  {
   "cell_type": "markdown",
   "id": "31110b52-ee21-4ec6-8752-1fb6e61a64eb",
   "metadata": {},
   "source": [
    "***\n",
    "## EXTRA: USE QUALIFICATION RESULTS IN OUR PREDICTIONS\n",
    "***\n",
    "<br>"
   ]
  },
  {
   "cell_type": "markdown",
   "id": "16619763-a644-4b7c-8842-c9e426a1bf3a",
   "metadata": {},
   "source": [
    "- #### Requires the results being available when the model runs. Must re-train on historical data that includes a raw 'GridPosition' column. Quali results need to be hardcoded in the .py file (f1_future_data) for now."
   ]
  },
  {
   "cell_type": "markdown",
   "id": "1bfd51a5-5088-48ff-b959-2f636896709e",
   "metadata": {},
   "source": [
    "> __Current Gran Prix:__ _United States Grand Prix 2025_"
   ]
  },
  {
   "cell_type": "code",
   "execution_count": 18,
   "id": "efd5367c-bd84-4c67-8692-dfa29aabffaa",
   "metadata": {},
   "outputs": [],
   "source": [
    "X_cols_grid = pred_cols(grid = True)\n",
    "# Recreate the training X and y sets, and the future race X set, including the 'GridPosition' column\n",
    "X_future_grid = full_df[full_df['isPredictionData'] == 1][X_cols_grid]\n",
    "X_train_grid = full_df[full_df['isPredictionData'] != 1][X_cols_grid]\n",
    "y_train_grid = full_df[full_df['isPredictionData'] != 1]['Winner']"
   ]
  },
  {
   "cell_type": "code",
   "execution_count": 19,
   "id": "da56fff9-e106-48fd-842b-d12ad73f4ef1",
   "metadata": {},
   "outputs": [
    {
     "name": "stdout",
     "output_type": "stream",
     "text": [
      "╔════╦══════════╦═════════════╗\n",
      "║    ║ Driver   ║ Winning %   ║\n",
      "╠════╬══════════╬═════════════╣\n",
      "║  1 ║ PIA      ║ 20.92%      ║\n",
      "║  2 ║ LEC      ║ 20.12%      ║\n",
      "║  3 ║ VER      ║ 17.95%      ║\n",
      "║  4 ║ NOR      ║ 8.6%        ║\n",
      "║  5 ║ HAM      ║ 3.58%       ║\n",
      "║  6 ║ RUS      ║ 2.86%       ║\n",
      "║  7 ║ TSU      ║ 2.63%       ║\n",
      "║  8 ║ ALO      ║ 1.22%       ║\n",
      "║  9 ║ ALB      ║ 1.12%       ║\n",
      "║ 10 ║ GAS      ║ 1.0%        ║\n",
      "║ 11 ║ ANT      ║ 0.77%       ║\n",
      "║ 12 ║ SAI      ║ 0.69%       ║\n",
      "║ 13 ║ HAD      ║ 0.62%       ║\n",
      "║ 14 ║ OCO      ║ 0.62%       ║\n",
      "║ 15 ║ BEA      ║ 0.62%       ║\n",
      "║ 16 ║ STR      ║ 0.62%       ║\n",
      "║ 17 ║ LAW      ║ 0.62%       ║\n",
      "║ 18 ║ HUL      ║ 0.57%       ║\n",
      "║ 19 ║ BOR      ║ 0.57%       ║\n",
      "║ 20 ║ COL      ║ 0.55%       ║\n",
      "╚════╩══════════╩═════════════╝\n"
     ]
    }
   ],
   "source": [
    "from tabulate import tabulate\n",
    "\n",
    "results = predict_winner(X_train_grid, y_train_grid, X_future_grid, ids, params = custom_params)\n",
    "results.index = results.index + 1\n",
    "print(tabulate(results, headers = [\"Driver\", \"Winning %\"], tablefmt = \"double_outline\"))"
   ]
  },
  {
   "cell_type": "code",
   "execution_count": null,
   "id": "d1590f58-55b0-4938-af61-169ae877a4e0",
   "metadata": {},
   "outputs": [],
   "source": []
  }
 ],
 "metadata": {
  "kernelspec": {
   "display_name": "Python 3 (ipykernel)",
   "language": "python",
   "name": "python3"
  },
  "language_info": {
   "codemirror_mode": {
    "name": "ipython",
    "version": 3
   },
   "file_extension": ".py",
   "mimetype": "text/x-python",
   "name": "python",
   "nbconvert_exporter": "python",
   "pygments_lexer": "ipython3",
   "version": "3.11.13"
  }
 },
 "nbformat": 4,
 "nbformat_minor": 5
}
